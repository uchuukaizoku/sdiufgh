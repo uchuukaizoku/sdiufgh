{
  "nbformat": 4,
  "nbformat_minor": 0,
  "metadata": {
    "colab": {
      "name": "Pix2Pix.ipynb",
      "provenance": [],
      "collapsed_sections": [],
      "include_colab_link": true
    },
    "kernelspec": {
      "name": "python3",
      "display_name": "Python 3"
    },
    "language_info": {
      "name": "python"
    }
  },
  "cells": [
    {
      "cell_type": "markdown",
      "metadata": {
        "id": "view-in-github",
        "colab_type": "text"
      },
      "source": [
        "<a href=\"https://colab.research.google.com/github/uchuukaizoku/sdiufgh/blob/main/Pix2PixExport.ipynb\" target=\"_parent\"><img src=\"https://colab.research.google.com/assets/colab-badge.svg\" alt=\"Open In Colab\"/></a>"
      ]
    },
    {
      "cell_type": "markdown",
      "metadata": {
        "id": "0yWDXNIgGFnO"
      },
      "source": [
        "# **Install Requirements**"
      ]
    },
    {
      "cell_type": "code",
      "metadata": {
        "id": "bty1hA3o954T",
        "cellView": "form"
      },
      "source": [
        "#@title Mount Google Drive\n",
        "%tensorflow_version 1.x\n",
        "from google.colab import drive\n",
        "drive.mount('/content/drive')"
      ],
      "execution_count": null,
      "outputs": []
    },
    {
      "cell_type": "code",
      "metadata": {
        "cellView": "form",
        "id": "h-miFl75GijP"
      },
      "source": [
        "#@title Generate Drive folder and Download pix2pix\n",
        "import os\n",
        "if os.path.isdir(\"/content/drive/My Drive/colab-pix2pix\"):\n",
        "    %cd \"/content/drive/My Drive/colab-pix2pix/pix2pix-tensorflow\"\n",
        "else:\n",
        "    #install script\n",
        "    %cd \"/content/drive/My Drive/\"\n",
        "    !mkdir colab-pix2pix\n",
        "    %cd colab-pix2pix\n",
        "    !git clone https://github.com/affinelayer/pix2pix-tensorflow.git\n",
        "    %cd pix2pix-tensorflow"
      ],
      "execution_count": null,
      "outputs": []
    },
    {
      "cell_type": "code",
      "metadata": {
        "id": "wGV4xJuu_gXZ",
        "cellView": "form"
      },
      "source": [
        "#Preparar Imagenes\n",
        "#@title Set Parameters to combine dataset\n",
        "a_path = \"a\" #@param {type:\"string\"}\n",
        "b_path = \"b\" #@param {type:\"string\"}\n",
        "output_path = \"c\" #@param {type:\"string\"}\n",
        "\n",
        "!python tools/process.py \\\n",
        "  --input_dir {a_path} \\\n",
        "  --b_dir {b_path} \\\n",
        "  --operation combine \\\n",
        "  --output_dir {output_path}"
      ],
      "execution_count": null,
      "outputs": []
    },
    {
      "cell_type": "code",
      "metadata": {
        "id": "P9vPkenoAGfB",
        "cellView": "form"
      },
      "source": [
        "#@title Divide combined dataset into training and testing sets\n",
        "dataset_path = \"\" #@param {type:\"string\"}\n",
        "\n",
        "python tools/split.py \\\n",
        "  --dir {dataset_path}"
      ],
      "execution_count": null,
      "outputs": []
    },
    {
      "cell_type": "code",
      "metadata": {
        "id": "pZU7dLtEBt-f",
        "cellView": "form"
      },
      "source": [
        "#entrenar\n",
        "#@title Train Pix2Pix\n",
        "input_path = \"\" #@param {type:\"string\"}\n",
        "training_path = \"\" #@param {type:\"string\"}\n",
        "set_direction = \"BtoA\" #@param [\"AtoB\", \"BtoA\"]\n",
        "epochs = 200 #@param {type:\"number\"}\n",
        "\n",
        "python pix2pix.py \\\n",
        "  --mode train \\\n",
        "  --output_dir {training_path} \\\n",
        "  --max_epochs {epochs} \\\n",
        "  --input_dir {input_path} \\\n",
        "  --which_direction {set_direction}"
      ],
      "execution_count": null,
      "outputs": []
    },
    {
      "cell_type": "code",
      "metadata": {
        "id": "lxZhkg-fB_2Z",
        "cellView": "form"
      },
      "source": [
        "#test\n",
        "#@title Test Pix2Pix\n",
        "\n",
        "input_path = \"\" #@param {type:\"string\"}\n",
        "training_path = \"\" #@param {type:\"string\"}\n",
        "checkpoint_path = \"\" #@param {type:\"string\"}\n",
        "\n",
        "python pix2pix.py \\\n",
        "  --mode test \\\n",
        "  --output_dir {training_path} \\\n",
        "  --input_dir {input_path} \\\n",
        "  --checkpoint {checkpoint_path}"
      ],
      "execution_count": null,
      "outputs": []
    },
    {
      "cell_type": "code",
      "metadata": {
        "cellView": "form",
        "id": "7lL1UVbbX9js"
      },
      "source": [
        "#@title Export Model\n",
        "\n",
        "checkpoint_path = \"/content/drive/MyDrive/Pix2pixSave1\" #@param {type:\"string\"}\n",
        "output_path = \"/content/PixOut2\" #@param {type:\"string\"}\n",
        "\n",
        "!python pix2pix.py \\\n",
        "  --mode export \\\n",
        "  --output_dir {output_path} \\\n",
        "  --checkpoint {checkpoint_path}"
      ],
      "execution_count": null,
      "outputs": []
    },
    {
      "cell_type": "code",
      "metadata": {
        "cellView": "form",
        "id": "IEf4QVCeN0YU"
      },
      "source": [
        "#@title Convert checkpoint to pict\n",
        "\n",
        "checkpoint_path = \"/content/PixOut2\" #@param {type:\"string\"}\n",
        "output_path = \"/content/PixOut3\" #@param {type:\"string\"}\n",
        "\n",
        "%mkdir {output_path}\n",
        "!touch {output_path}/out.pict\n",
        "\n",
        "!python server/tools/export-checkpoint.py \\\n",
        "  --checkpoint {checkpoint_path} \\\n",
        "  --output_file {output_path}/out.pict"
      ],
      "execution_count": null,
      "outputs": []
    }
  ]
}